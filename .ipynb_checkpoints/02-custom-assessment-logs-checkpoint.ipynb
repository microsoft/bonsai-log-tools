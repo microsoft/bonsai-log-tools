{
 "cells": [
  {
   "cell_type": "markdown",
   "metadata": {},
   "source": [
    "# Custom assessment data"
   ]
  },
  {
   "cell_type": "markdown",
   "metadata": {},
   "source": [
    "This notebook offers you a template to import your Bonsai custom assessment data into Jupyter. When you run a custom assessment, the assessment data will be automatically logged to your Log Analytics Workspace (LAW). Simply add your Log Analytics Workspace ID, your email alias, and the brain name, brain version, and assessment name for the assessment data that you're interested in. Then, run the notebook. The final output will be two different data frames with your custom assessment data, each of which have different formats as described at the bottom of this notebook.\n",
    "\n",
    "To learn more about Bonsai custom assessments, use [these documents](https://docs.microsoft.com/en-us/bonsai/guides/assess-brain)."
   ]
  },
  {
   "cell_type": "markdown",
   "metadata": {},
   "source": [
    "## Getting Started\n",
    "\n",
    "### Prerequisites\n",
    "\n",
    "If your azure subscription has not yet been registered to allow Log Analytics workspace resource provider, it needs to be registered manually using the azure-cli:\n",
    "\n",
    "1. Type the below cli command to determine if registration is required. SUBCRIPTION_ID can be found on preview.bons.ai by clicking on id/Workspace info.\n",
    "\n",
    "    ``` \n",
    "    az provider show --namespace \"Microsoft.OperationalInsights\" -o table --subscription <SUBCRIPTION_ID>\n",
    "    ```\n",
    "\n",
    "2.  If the registrationState is `Registered`, you can skip this step. If not registered, we will need to register it. This is a one-time step per subscription and the user will need owner-level permission. If you don't have the appropriate permission, work with your IT admin to execute that step.\n",
    "\n",
    "    ```\n",
    "    az login\n",
    "    az provider register --namespace \"Microsoft.OperationalInsights\" --subscription <SUBCRIPTION_ID>\n",
    "    ```\n",
    "\n",
    "Note: A Log Analytics workspace will get created on Azure if it does not already exist in the provisioned Bonsai workspace."
   ]
  },
  {
   "cell_type": "markdown",
   "metadata": {},
   "source": [
    "### Imports and install\n",
    "\n",
    "Run the following cells to install and import all relevant libraries."
   ]
  },
  {
   "cell_type": "code",
   "execution_count": null,
   "metadata": {},
   "outputs": [],
   "source": [
    "!pip install -r requirements.txt\n",
    "!pip install -e 'git+https://github.com/mzat-msft/bonsai-utils/#egg=blaq&subdirectory=blaq'"
   ]
  },
  {
   "cell_type": "markdown",
   "metadata": {},
   "source": [
    "<div class=\"alert alert-block alert-danger\">\n",
    "    If importing `blaq` fail, restart the kernel and resume from this cell (i.e. skip installation of dependencies)\n",
    "</div>"
   ]
  },
  {
   "cell_type": "code",
   "execution_count": null,
   "metadata": {},
   "outputs": [],
   "source": [
    "import os\n",
    "\n",
    "import blaq"
   ]
  },
  {
   "cell_type": "markdown",
   "metadata": {},
   "source": [
    "### Get the log analytics workspace ID\n",
    "\n",
    "Retrieve your Log Analytics workspace id using the instructions below and set the `LOG_ANALYTICS_WORKSPACE_ID` variable to that string. Then, set the alias variable to your microsoft account alias.\n",
    "\n",
    "Instructions for accessing your Log Analystics workspace id:\n",
    "1. Sign into the [Azure Portal](www.portal.azure.com).\n",
    "2. Open the [list of Bonsai workspaces](https://aka.ms/portal-bonsai-workspaces) associated with your account.\n",
    "3. Click on the workspace you want to query logs for.\n",
    "4. Click on the log analytics workspace link in the 'Essentials' category\n",
    "5. Copy your Workspace ID from the essentials sections\n",
    "6. Set an env variable named `LOG_WORKSPACE_ID` (use the cell below)\n",
    "\n",
    "Please **note**, the log analytics workspace-id is the `workspace-id` of the log analytics workspace, **not** your Bonsai workspace.\n"
   ]
  },
  {
   "cell_type": "code",
   "execution_count": null,
   "metadata": {},
   "outputs": [],
   "source": [
    "LOG_WORKSPACE_ID = \"\" \n",
    "os.environ['LOG_WORKSPACE_ID'] = LOG_WORKSPACE_ID"
   ]
  },
  {
   "cell_type": "markdown",
   "metadata": {},
   "source": [
    "## Import custom assessment data\n",
    "\n",
    "To import data for a specific custom assessment, fill in the relevant `brain_name`, `brain_version`, and `assessment_name` parameters below. The data will get pulled from your Log Analytics Workspace into this notebook, so that you can analyze it here."
   ]
  },
  {
   "cell_type": "markdown",
   "metadata": {},
   "source": [
    "#### Query\n",
    "\n",
    "The package `blaq` contains a function that fetches data directly from your LogAnalytics workspace."
   ]
  },
  {
   "cell_type": "code",
   "execution_count": null,
   "metadata": {},
   "outputs": [],
   "source": [
    "assessment_name = ''\n",
    "brain_name = ''\n",
    "brain_version = ''\n",
    "\n",
    "assessment_data = blaq.get_assessment_data(assessment_name, brain_name=brain_name, brain_version=brain_version)"
   ]
  },
  {
   "cell_type": "markdown",
   "metadata": {},
   "source": [
    "# Resulting data for your use\n",
    "\n",
    "After performing the above steps you will have the following dataframe available:\n",
    "\n",
    "1. assessment_data - This contains iteration level data for every episode in the assessment. In this table there is a separate column to represent each sim config, state and action variable associated with your brain. This dataframe will have a lot of columns.\n",
    "\n",
    "\n",
    "Note: each assessment episode will have a unique episode id."
   ]
  },
  {
   "cell_type": "code",
   "execution_count": null,
   "metadata": {},
   "outputs": [],
   "source": [
    "assessment_data.head(5)"
   ]
  }
 ],
 "metadata": {
  "kernelspec": {
   "display_name": "Python 3 (ipykernel)",
   "language": "python",
   "name": "python3"
  },
  "language_info": {
   "codemirror_mode": {
    "name": "ipython",
    "version": 3
   },
   "file_extension": ".py",
   "mimetype": "text/x-python",
   "name": "python",
   "nbconvert_exporter": "python",
   "pygments_lexer": "ipython3",
   "version": "3.8.10"
  }
 },
 "nbformat": 4,
 "nbformat_minor": 4
}
